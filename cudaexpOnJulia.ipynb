{
  "nbformat": 4,
  "nbformat_minor": 0,
  "metadata": {
    "colab": {
      "name": "cudaexpOnJulia.ipynb",
      "provenance": [],
      "toc_visible": true,
      "include_colab_link": true
    },
    "kernelspec": {
      "name": "julia-1.5",
      "display_name": "Julia 1.5"
    },
    "accelerator": "GPU"
  },
  "cells": [
    {
      "cell_type": "markdown",
      "metadata": {
        "id": "view-in-github",
        "colab_type": "text"
      },
      "source": [
        "<a href=\"https://colab.research.google.com/github/daryoush/CudaAndFluxExperiments/blob/main/cudaexpOnJulia.ipynb\" target=\"_parent\"><img src=\"https://colab.research.google.com/assets/colab-badge.svg\" alt=\"Open In Colab\"/></a>"
      ]
    },
    {
      "cell_type": "code",
      "metadata": {
        "id": "oMSuTc3pDlHv",
        "colab": {
          "base_uri": "https://localhost:8080/",
          "height": 128
        },
        "outputId": "20b166c9-7ae5-4067-ce75-8b2904666d33"
      },
      "source": [
        "### NOTE THIS WORKS AS PYTHON, IT ONLY WORKS WHEN THE RUNTIME COMPLAINS ABOUT JULIA RUNTIME, SO IT REVERTS TO PYTHON. AFTER JULIA IS INSTALLED, CHANGE TO JULIA RUNTIME\n",
        "\n",
        "!curl -sSL \"https://julialang-s3.julialang.org/bin/linux/x64/1.5/julia-1.5.0-linux-x86_64.tar.gz\" -o julia.tar.gz\n",
        "!tar -xzf julia.tar.gz -C /usr --strip-components 1\n",
        "!rm -rf julia.tar.gz*\n",
        "!julia -e 'using Pkg; pkg\"add IJulia; precompile\"'\n",
        "!julia -e 'using Pkg; Pkg.add([ \"CUDA\", \"Flux\",\"Zygote\",\"Profile\", \"TensorBoardLogger\", \"Logging\",\\\n",
        "    \"Random\", \"DataStructures\", \"Transformers\",\"Statistics\", \"BenchmarkTools\"\\\n",
        "    ]);' ###Pkg.precompile()'\n",
        "!echo \"DONE\""
      ],
      "execution_count": 1,
      "outputs": [
        {
          "output_type": "error",
          "ename": "IndentationError",
          "evalue": "ignored",
          "traceback": [
            "\u001b[0;36m  File \u001b[0;32m\"<ipython-input-1-e177c2f2508b>\"\u001b[0;36m, line \u001b[0;32m8\u001b[0m\n\u001b[0;31m    ]);' ###Pkg.precompile()'\u001b[0m\n\u001b[0m    ^\u001b[0m\n\u001b[0;31mIndentationError\u001b[0m\u001b[0;31m:\u001b[0m unexpected indent\n"
          ]
        }
      ]
    },
    {
      "cell_type": "code",
      "metadata": {
        "id": "BoZnMwsrCNZn"
      },
      "source": [
        "[1,2,3]"
      ],
      "execution_count": null,
      "outputs": []
    },
    {
      "cell_type": "code",
      "metadata": {
        "id": "qrtJwtCUgCjX"
      },
      "source": [
        "using CUDA"
      ],
      "execution_count": null,
      "outputs": []
    },
    {
      "cell_type": "code",
      "metadata": {
        "id": "yQlpeR9wNOi8",
        "colab": {
          "base_uri": "https://localhost:8080/"
        },
        "outputId": "1f746055-f882-4fd0-e176-e92600e8820f"
      },
      "source": [
        "using BenchmarkTools\n",
        "\n",
        "M = rand(2048, 2048)\n",
        "@benchmark M^2\n",
        "\n",
        "if ENV[\"COLAB_GPU\"] == \"1\"\n",
        "\n",
        "    M_gpu = cu(M)\n",
        "    @benchmark CUDA.@sync M_gpu^2\n",
        "else\n",
        "    println(\"No GPU found.\")\n",
        "end"
      ],
      "execution_count": null,
      "outputs": [
        {
          "output_type": "execute_result",
          "data": {
            "text/plain": [
              "BenchmarkTools.Trial: \n",
              "  memory estimate:  32.00 MiB\n",
              "  allocs estimate:  2\n",
              "  --------------\n",
              "  minimum time:     417.434 ms (0.00% GC)\n",
              "  median time:      431.325 ms (0.00% GC)\n",
              "  mean time:        435.868 ms (0.73% GC)\n",
              "  maximum time:     471.040 ms (0.71% GC)\n",
              "  --------------\n",
              "  samples:          12\n",
              "  evals/sample:     1"
            ]
          },
          "metadata": {
            "tags": []
          },
          "execution_count": 12
        }
      ]
    },
    {
      "cell_type": "code",
      "metadata": {
        "id": "gR0rok0y2JeR",
        "colab": {
          "base_uri": "https://localhost:8080/"
        },
        "outputId": "0d96a07e-5918-4f40-a98a-704bfaa52d6d"
      },
      "source": [
        "CUDA.memory_status()\n",
        "GC.gc(true)\n",
        "CUDA.memory_status()"
      ],
      "execution_count": null,
      "outputs": [
        {
          "output_type": "stream",
          "text": [
            "Effective GPU memory usage: 34.08% (5.019 GiB/14.726 GiB)\n",
            "CUDA allocator usage: 4.837 GiB\n",
            "binned usage: 4.837 GiB (48.856 MiB allocated, 4.789 GiB cached)\n"
          ],
          "name": "stdout"
        }
      ]
    },
    {
      "cell_type": "code",
      "metadata": {
        "id": "vD2UftRPetCK"
      },
      "source": [
        ""
      ],
      "execution_count": null,
      "outputs": []
    }
  ]
}
