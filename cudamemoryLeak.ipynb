{
  "nbformat": 4,
  "nbformat_minor": 0,
  "metadata": {
    "colab": {
      "name": "startjulia1.5.ipynb",
      "provenance": [],
      "toc_visible": true,
      "include_colab_link": true
    },
    "kernelspec": {
      "name": "julia-1.5",
      "display_name": "Julia 1.5"
    },
    "accelerator": "GPU"
  },
  "cells": [
    {
      "cell_type": "markdown",
      "metadata": {
        "id": "view-in-github",
        "colab_type": "text"
      },
      "source": [
        "<a href=\"https://colab.research.google.com/github/daryoush/CudaAndFluxExperiments/blob/main/cudamemoryLeak.ipynb\" target=\"_parent\"><img src=\"https://colab.research.google.com/assets/colab-badge.svg\" alt=\"Open In Colab\"/></a>"
      ]
    },
    {
      "cell_type": "markdown",
      "metadata": {
        "id": "WjWDviG9ntWm"
      },
      "source": [
        "Control m m will convert a code cell to a text cell. Control m y will convert a text cell to a code cell.\n",
        "\n",
        "The full list of keyboard shortcuts is available under 'Keyboard shortcuts' in the Tools menu."
      ]
    },
    {
      "cell_type": "markdown",
      "metadata": {
        "id": "oMSuTc3pDlHv"
      },
      "source": [
        "### NOTE THIS WORKS AS PYTHON, IT ONLY WORKS WHEN THE RUNTIME COMPLAINS ABOUT JULIA RUNTIME, SO IT REVERTS TO PYTHON. AFTER JULIA IS INSTALLED, CHANGE TO JULIA RUNTIME\n",
        "\n",
        "!curl -sSL \"https://julialang-s3.julialang.org/bin/linux/x64/1.5/julia-1.5.3-linux-x86_64.tar.gz\" -o julia.tar.gz\n",
        "!tar -xzf julia.tar.gz -C /usr --strip-components 1\n",
        "!rm -rf julia.tar.gz*\n",
        "!julia -e 'using Pkg; pkg\"add IJulia; precompile\"'\n",
        "#!julia -e 'using Pkg; Pkg.add([ \"CUDA\", \"Flux\",\"Zygote\",\"Profile\", \"TensorBoardLogger\", \"Logging\",\\\n",
        "#    \"Random\", \"DataStructures\", \"Transformers\",\"Statistics\", \"BenchmarkTools\"\\\n",
        "#    ]);' ###Pkg.precompile()'\n",
        "!echo \"DONE\""
      ]
    },
    {
      "cell_type": "code",
      "metadata": {
        "id": "BoZnMwsrCNZn",
        "colab": {
          "base_uri": "https://localhost:8080/"
        },
        "outputId": "d6bb6655-9f08-4113-c260-6fc792aff5af"
      },
      "source": [
        "[1,2,3]"
      ],
      "execution_count": 14,
      "outputs": [
        {
          "output_type": "execute_result",
          "data": {
            "text/plain": [
              "3-element Array{Int64,1}:\n",
              " 1\n",
              " 2\n",
              " 3"
            ]
          },
          "metadata": {
            "tags": []
          },
          "execution_count": 14
        }
      ]
    },
    {
      "cell_type": "code",
      "metadata": {
        "id": "qrtJwtCUgCjX",
        "colab": {
          "base_uri": "https://localhost:8080/"
        },
        "outputId": "385a07d5-3ca0-4787-fe32-315beca48893"
      },
      "source": [
        "using Pkg\n",
        "Pkg.add([ \"CUDA\", \"BenchmarkTools\"])\n",
        "using CUDA"
      ],
      "execution_count": 15,
      "outputs": [
        {
          "output_type": "stream",
          "text": [
            "\u001b[32m\u001b[1m  Resolving\u001b[22m\u001b[39m package versions...\n",
            "\u001b[32m\u001b[1mNo Changes\u001b[22m\u001b[39m to `~/.julia/environments/v1.5/Project.toml`\n",
            "\u001b[32m\u001b[1mNo Changes\u001b[22m\u001b[39m to `~/.julia/environments/v1.5/Manifest.toml`\n"
          ],
          "name": "stderr"
        }
      ]
    },
    {
      "cell_type": "code",
      "metadata": {
        "id": "yQlpeR9wNOi8",
        "colab": {
          "base_uri": "https://localhost:8080/"
        },
        "outputId": "339fc4d3-2b8a-4c06-cd9c-da4fef831d03"
      },
      "source": [
        "using BenchmarkTools\n",
        "\n",
        "M = rand(2048, 2048)\n",
        "@benchmark M^2\n",
        "\n",
        "if ENV[\"COLAB_GPU\"] == \"1\"\n",
        "\n",
        "    M_gpu = cu(M)\n",
        "    @benchmark CUDA.@sync M_gpu^2\n",
        "else\n",
        "    println(\"No GPU found.\")\n",
        "end"
      ],
      "execution_count": 16,
      "outputs": [
        {
          "output_type": "stream",
          "text": [
            "┌ Info: Precompiling BenchmarkTools [6e4b80f9-dd63-53aa-95a3-0cdb28fa8baf]\n",
            "└ @ Base loading.jl:1278\n"
          ],
          "name": "stderr"
        },
        {
          "output_type": "execute_result",
          "data": {
            "text/plain": [
              "BenchmarkTools.Trial: \n",
              "  memory estimate:  704 bytes\n",
              "  allocs estimate:  38\n",
              "  --------------\n",
              "  minimum time:     1.141 ms (0.00% GC)\n",
              "  median time:      1.553 ms (0.00% GC)\n",
              "  mean time:        1.575 ms (0.11% GC)\n",
              "  maximum time:     6.037 ms (33.69% GC)\n",
              "  --------------\n",
              "  samples:          3167\n",
              "  evals/sample:     1"
            ]
          },
          "metadata": {
            "tags": []
          },
          "execution_count": 16
        }
      ]
    },
    {
      "cell_type": "code",
      "metadata": {
        "id": "gR0rok0y2JeR",
        "colab": {
          "base_uri": "https://localhost:8080/"
        },
        "outputId": "5b84027d-dea9-4e1c-d37d-d21c36056cf5"
      },
      "source": [
        "CUDA.memory_status()\n",
        "GC.gc(true)\n",
        "CUDA.memory_status()"
      ],
      "execution_count": 17,
      "outputs": [
        {
          "output_type": "stream",
          "text": [
            "Effective GPU memory usage: 99.95% (14.719 GiB/14.726 GiB)\n",
            "CUDA allocator usage: 14.547 GiB\n",
            "binned usage: 14.516 GiB (32 bytes allocated, 14.516 GiB cached)\n",
            "Discrepancy of 32.000 MiB between memory pool and allocator!\n",
            "Effective GPU memory usage: 99.95% (14.719 GiB/14.726 GiB)\n",
            "CUDA allocator usage: 14.547 GiB\n",
            "binned usage: 14.531 GiB (16 bytes allocated, 14.531 GiB cached)\n",
            "Discrepancy of 16.000 MiB between memory pool and allocator!\n"
          ],
          "name": "stdout"
        }
      ]
    },
    {
      "cell_type": "code",
      "metadata": {
        "id": "vD2UftRPetCK"
      },
      "source": [
        ""
      ],
      "execution_count": 18,
      "outputs": []
    }
  ]
}